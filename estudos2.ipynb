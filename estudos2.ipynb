{
  "nbformat": 4,
  "nbformat_minor": 0,
  "metadata": {
    "colab": {
      "provenance": [],
      "authorship_tag": "ABX9TyNL04Z18+fUvXPX9tRGqkMV",
      "include_colab_link": true
    },
    "kernelspec": {
      "name": "python3",
      "display_name": "Python 3"
    },
    "language_info": {
      "name": "python"
    }
  },
  "cells": [
    {
      "cell_type": "markdown",
      "metadata": {
        "id": "view-in-github",
        "colab_type": "text"
      },
      "source": [
        "<a href=\"https://colab.research.google.com/github/igordantasgf/analise_dados_microambientais/blob/main/estudos2.ipynb\" target=\"_parent\"><img src=\"https://colab.research.google.com/assets/colab-badge.svg\" alt=\"Open In Colab\"/></a>"
      ]
    },
    {
      "cell_type": "code",
      "execution_count": 2,
      "metadata": {
        "id": "xAiC9CLRz1N-"
      },
      "outputs": [],
      "source": [
        "import pandas as pd\n",
        "import matplotlib.pyplot as plt\n",
        "from datetime import timedelta\n",
        "import datetime\n",
        "import numpy as np\n",
        "import seaborn\n",
        "import math"
      ]
    },
    {
      "cell_type": "code",
      "source": [
        "from google.colab import drive\n",
        "drive.mount('/content/drive')"
      ],
      "metadata": {
        "id": "WP5bEajuz8xQ",
        "outputId": "e0975f8a-8b70-43a1-ccf6-042b75e14d5b",
        "colab": {
          "base_uri": "https://localhost:8080/"
        }
      },
      "execution_count": 1,
      "outputs": [
        {
          "output_type": "stream",
          "name": "stdout",
          "text": [
            "Mounted at /content/drive\n"
          ]
        }
      ]
    },
    {
      "cell_type": "code",
      "source": [
        "data_path = '/content/drive/MyDrive/Bolsa - Edson/estudos/Pasta sem nome/labmim_completo_2016_2022.dat'\n",
        "frame = pd.read_csv(data_path, sep=';')\n",
        "tempo = list(zip(frame['year'],frame['month'],frame['day'],frame['hour']))\n",
        "print(frame.columns)"
      ],
      "metadata": {
        "id": "6XAE-3VVz-xj",
        "outputId": "31163805-f0be-40c7-d484-8c8190d3e03f",
        "colab": {
          "base_uri": "https://localhost:8080/"
        }
      },
      "execution_count": 94,
      "outputs": [
        {
          "output_type": "stream",
          "name": "stdout",
          "text": [
            "Index(['year', 'month', 'day', 'hour', 'T', 'Td', 'ur', 'pressure', 'WD', 'WS',\n",
            "       'u', 'v', 'precip', 'Sw_dw', 'Sw_up', 'Lw_dw', 'Lw_up', 'Sw_dif',\n",
            "       'Sw_par', 'RH_WXT', 'Temp_WXT', 'Net_CNR1', 'Net_NRLite', 'PSP_Wm2_Avg',\n",
            "       'oc_topo', 'decl_rad', 'elev_solar', 'ang_hor', 'ang_zen',\n",
            "       'ang_hor_por', 'nascer_h', 'por_h', 'ast_h', 'fc'],\n",
            "      dtype='object')\n"
          ]
        }
      ]
    },
    {
      "cell_type": "code",
      "source": [
        "# Formatação de datas\n",
        "datas=[]\n",
        "for i in tempo:\n",
        "  i = list(i)\n",
        "  datas.append(datetime.datetime(i[0],i[1],i[2],i[3]))\n",
        "frame['datas'] = datas\n",
        "frame['year/month/day'] = list(zip(frame['datas'].dt.year, frame['datas'].dt.month, frame['datas'].dt.day))"
      ],
      "metadata": {
        "id": "bopdobKr0Yaa"
      },
      "execution_count": 95,
      "outputs": []
    },
    {
      "cell_type": "code",
      "source": [
        "frame.head(50)"
      ],
      "metadata": {
        "id": "OsqFaVMwEszw"
      },
      "execution_count": null,
      "outputs": []
    },
    {
      "cell_type": "markdown",
      "source": [
        "## **Controle de dados**: filtragem de dias\n",
        "* O parâmetro a ser analisado deve ser definido abaixo, nem \"variavel\"\n",
        "* \"horas_minimo\" define a quantidade mínima de horas analisadas para que um dia seja considerado como conjunto de dados válido\n"
      ],
      "metadata": {
        "id": "qAFmCgNG0xiO"
      }
    },
    {
      "cell_type": "code",
      "source": [
        "variavel = 'Sw_dw'\n",
        "horas_minimo = 8\n",
        "\n",
        "### Análise de Sw_dw: corta dias com menos de 8 horas com dados\n",
        "if variavel in ['Sw_dw','Sw_dw','Lw_up','Lw_dw','Sw_dif','Sw_dir']:\n",
        "  df = pd.DataFrame(frame, columns=['year/month/day',variavel,'precip','oc_topo'])\n",
        "\n",
        "  df['meses'] = frame['datas'].dt.month\n",
        "  tabela = df.groupby('year/month/day')\n",
        "\n",
        "\n",
        "\n",
        "  analise=[]\n",
        "  analise_new=[]\n",
        "  for i in tabela:\n",
        "    analise.append(i)\n",
        "\n",
        "  for item in analise: # criando lista com dias com quantidade de dados suficiente\n",
        "    contador=0\n",
        "    tam = len(item[1])\n",
        "\n",
        "\n",
        "    # Analisando dias sem info\n",
        "    for k in range(0,tam):\n",
        "      p = item[1].iloc[k]\n",
        "\n",
        "      if p['precip']>0 or p['oc_topo']==0:\n",
        "        p[variavel] = np.nan\n",
        "\n",
        "      if math.isnan(p[variavel])==True: # Se dado for nulo, incrementa o contador de horas minimas\n",
        "        contador=contador+1\n",
        "\n",
        "    if contador>=horas_minimo:\n",
        "      analise_new.append(item)\n",
        "      \n",
        "  for n in analise_new:\n",
        "    n[1][variavel] = n[1][variavel]*0.0036\n",
        "    "
      ],
      "metadata": {
        "id": "m66B12820IAg",
        "outputId": "6d97c9ce-87ed-4e24-f9bf-63ff60057cf8",
        "colab": {
          "base_uri": "https://localhost:8080/"
        }
      },
      "execution_count": 109,
      "outputs": [
        {
          "output_type": "stream",
          "name": "stderr",
          "text": [
            "/usr/local/lib/python3.7/dist-packages/pandas/core/series.py:1056: SettingWithCopyWarning: \n",
            "A value is trying to be set on a copy of a slice from a DataFrame\n",
            "\n",
            "See the caveats in the documentation: https://pandas.pydata.org/pandas-docs/stable/user_guide/indexing.html#returning-a-view-versus-a-copy\n",
            "  cacher_needs_updating = self._check_is_chained_assignment_possible()\n"
          ]
        }
      ]
    },
    {
      "cell_type": "code",
      "source": [
        "analise_new[30][1]"
      ],
      "metadata": {
        "id": "Jae1MDxu_PdU"
      },
      "execution_count": null,
      "outputs": []
    },
    {
      "cell_type": "markdown",
      "source": [
        "* Criação de lista com dados separados em meses (médias diárias)"
      ],
      "metadata": {
        "id": "w00o1jN1_dQo"
      }
    },
    {
      "cell_type": "code",
      "source": [
        "dados_meses = []\n",
        "for a in range(12):\n",
        "  dados_meses.append([])\n",
        "\n",
        "for i in analise_new:\n",
        "  k = int(i[0][1])-1\n",
        "  \n",
        "  dados_meses[k].append(i[1].groupby('year/month/day').sum()[variavel][0])"
      ],
      "metadata": {
        "id": "X5O_8WJK58x-"
      },
      "execution_count": 110,
      "outputs": []
    },
    {
      "cell_type": "code",
      "source": [
        "dados_meses[2]"
      ],
      "metadata": {
        "id": "VIVz9OCJHbep"
      },
      "execution_count": null,
      "outputs": []
    },
    {
      "cell_type": "markdown",
      "source": [
        "* Plotting"
      ],
      "metadata": {
        "id": "2AhyoFUW_oJ5"
      }
    },
    {
      "cell_type": "code",
      "source": [
        "m_label = ['JAN','FEV','MAR','ABR','MAI','JUN','JUL','AGO','SET','OUT','NOV','DEZ']\n",
        "fig, ax = plt.subplots(figsize=(20,5))\n",
        "g = seaborn.boxplot(data=dados_meses, orient='v')\n",
        "g.set_xticklabels(m_label)\n",
        "g.set_title(\"Médias diária de {}\".format(variavel))"
      ],
      "metadata": {
        "id": "asptYmbq_1ht",
        "outputId": "b37e458b-56db-49e1-e3a4-f2e4c9972ad1",
        "colab": {
          "base_uri": "https://localhost:8080/",
          "height": 353
        }
      },
      "execution_count": 111,
      "outputs": [
        {
          "output_type": "execute_result",
          "data": {
            "text/plain": [
              "Text(0.5, 1.0, 'Médias diária de Sw_dw')"
            ]
          },
          "metadata": {},
          "execution_count": 111
        },
        {
          "output_type": "display_data",
          "data": {
            "text/plain": [
              "<Figure size 1440x360 with 1 Axes>"
            ],
            "image/png": "[encoded data removed]"
          },
          "metadata": {
            "needs_background": "light"
          }
        }
      ]
    }
  ]
}