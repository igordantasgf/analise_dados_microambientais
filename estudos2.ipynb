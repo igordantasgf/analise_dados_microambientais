{
  "nbformat": 4,
  "nbformat_minor": 0,
  "metadata": {
    "colab": {
      "provenance": [],
      "authorship_tag": "ABX9TyPG8cC3fU2DmvwsszibRear",
      "include_colab_link": true
    },
    "kernelspec": {
      "name": "python3",
      "display_name": "Python 3"
    },
    "language_info": {
      "name": "python"
    }
  },
  "cells": [
    {
      "cell_type": "markdown",
      "metadata": {
        "id": "view-in-github",
        "colab_type": "text"
      },
      "source": [
        "<a href=\"https://colab.research.google.com/github/igordantasgf/analise_dados_microambientais/blob/main/estudos2.ipynb\" target=\"_parent\"><img src=\"https://colab.research.google.com/assets/colab-badge.svg\" alt=\"Open In Colab\"/></a>"
      ]
    },
    {
      "cell_type": "code",
      "execution_count": 1,
      "metadata": {
        "id": "xAiC9CLRz1N-"
      },
      "outputs": [],
      "source": [
        "import pandas as pd\n",
        "import matplotlib.pyplot as plt\n",
        "from datetime import timedelta\n",
        "import datetime\n",
        "import numpy as np\n",
        "import seaborn\n",
        "import math"
      ]
    },
    {
      "cell_type": "code",
      "source": [
        "from google.colab import drive\n",
        "drive.mount('/content/drive')"
      ],
      "metadata": {
        "id": "WP5bEajuz8xQ"
      },
      "execution_count": null,
      "outputs": []
    },
    {
      "cell_type": "code",
      "source": [
        "data_path = '/content/drive/MyDrive/Bolsa - Edson/estudos/Pasta sem nome/labmim_completo_2016_2022.dat'\n",
        "frame = pd.read_csv(data_path, sep=';')\n",
        "tempo = list(zip(frame['year'],frame['month'],frame['day'],frame['hour']))\n",
        "print(frame.columns)"
      ],
      "metadata": {
        "id": "6XAE-3VVz-xj"
      },
      "execution_count": null,
      "outputs": []
    },
    {
      "cell_type": "code",
      "source": [
        "# Formatação de datas\n",
        "datas=[]\n",
        "for i in tempo:\n",
        "  i = list(i)\n",
        "  datas.append(datetime.datetime(i[0],i[1],i[2],i[3]))\n",
        "frame['datas'] = datas\n",
        "frame['year/month/day'] = list(zip(frame['datas'].dt.year, frame['datas'].dt.month, frame['datas'].dt.day))"
      ],
      "metadata": {
        "id": "bopdobKr0Yaa"
      },
      "execution_count": 4,
      "outputs": []
    },
    {
      "cell_type": "markdown",
      "source": [
        "## **Controle de dados**: filtragem de dias\n",
        "* O parâmetro a ser analisado deve ser definido abaixo, nem \"variavel\"\n",
        "* \"horas_minimo\" define a quantidade mínima de horas analisadas para que um dia seja considerado como conjunto de dados válido\n"
      ],
      "metadata": {
        "id": "qAFmCgNG0xiO"
      }
    },
    {
      "cell_type": "code",
      "source": [
        "variavel = 'Sw_dw'\n",
        "horas_minimo = 8\n",
        "\n",
        "### Análise de Sw_dw: corta dias com menos de 8 horas com dados\n",
        "if variavel=='Sw_dw':\n",
        "  df = pd.DataFrame(frame, columns=['year/month/day',variavel])\n",
        "  df['meses'] = frame['datas'].dt.month\n",
        "  tabela = df.groupby('year/month/day')\n",
        "  analise=[]\n",
        "  analise_new=[]\n",
        "  for i in tabela:\n",
        "    analise.append(i)\n",
        "\n",
        "  for item in analise: # criando lista com dias com quantidade de dados suficiente\n",
        "    contador=0\n",
        "    for k in item[1][variavel]:\n",
        "      if math.isnan(k)==True:\n",
        "        contador=contador+1\n",
        "    if contador>=horas_minimo:\n",
        "      analise_new.append(item)\n"
      ],
      "metadata": {
        "id": "m66B12820IAg"
      },
      "execution_count": 5,
      "outputs": []
    },
    {
      "cell_type": "markdown",
      "source": [
        "* Criação de lista com dados separados em meses (médias diárias)"
      ],
      "metadata": {
        "id": "w00o1jN1_dQo"
      }
    },
    {
      "cell_type": "code",
      "source": [
        "dados_meses = []\n",
        "for a in range(12):\n",
        "  dados_meses.append([])\n",
        "\n",
        "for i in analise_new:\n",
        "  k = int(i[0][1])-1\n",
        "  dados_meses[k].append(i[1].groupby('year/month/day').mean()['Sw_dw'][0])"
      ],
      "metadata": {
        "id": "X5O_8WJK58x-"
      },
      "execution_count": 72,
      "outputs": []
    },
    {
      "cell_type": "code",
      "source": [
        "dados_meses"
      ],
      "metadata": {
        "id": "xwEFyGP7_2yn"
      },
      "execution_count": null,
      "outputs": []
    },
    {
      "cell_type": "markdown",
      "source": [
        "* Plotting"
      ],
      "metadata": {
        "id": "2AhyoFUW_oJ5"
      }
    },
    {
      "cell_type": "code",
      "source": [
        "m_label = ['JAN','FEV','MAR','ABR','MAI','JUN','JUL','AGO','SET','OUT','NOV','DEZ']\n",
        "fig, ax = plt.subplots(figsize=(20,5))\n",
        "g = seaborn.boxplot(data=dados_meses, orient='v')\n",
        "g.set_xticklabels(m_label)\n",
        "g.set_title(\"Médias diária de {}\".format(variavel))"
      ],
      "metadata": {
        "id": "asptYmbq_1ht",
        "outputId": "0cde4923-e923-4da2-f316-135e17658011",
        "colab": {
          "base_uri": "https://localhost:8080/",
          "height": 353
        }
      },
      "execution_count": 78,
      "outputs": [
        {
          "output_type": "execute_result",
          "data": {
            "text/plain": [
              "Text(0.5, 1.0, 'Médias diária de Sw_dw')"
            ]
          },
          "metadata": {},
          "execution_count": 78
        },
        {
          "output_type": "display_data",
          "data": {
            "text/plain": [
              "<Figure size 1440x360 with 1 Axes>"
            ],
            "image/png": "[encoded data removed]"
          },
          "metadata": {
            "needs_background": "light"
          }
        }
      ]
    }
  ]
}