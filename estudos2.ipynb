{
  "nbformat": 4,
  "nbformat_minor": 0,
  "metadata": {
    "colab": {
      "provenance": [],
      "authorship_tag": "ABX9TyPIpHPw/ZOHPQTPu1MFVPFB",
      "include_colab_link": true
    },
    "kernelspec": {
      "name": "python3",
      "display_name": "Python 3"
    },
    "language_info": {
      "name": "python"
    }
  },
  "cells": [
    {
      "cell_type": "markdown",
      "metadata": {
        "id": "view-in-github",
        "colab_type": "text"
      },
      "source": [
        "<a href=\"https://colab.research.google.com/github/igordantasgf/analise_dados_microambientais/blob/main/estudos2.ipynb\" target=\"_parent\"><img src=\"https://colab.research.google.com/assets/colab-badge.svg\" alt=\"Open In Colab\"/></a>"
      ]
    },
    {
      "cell_type": "code",
      "execution_count": 1,
      "metadata": {
        "id": "xAiC9CLRz1N-"
      },
      "outputs": [],
      "source": [
        "import pandas as pd\n",
        "import matplotlib.pyplot as plt\n",
        "from datetime import timedelta\n",
        "import datetime\n",
        "import numpy as np\n",
        "import seaborn\n",
        "import math"
      ]
    },
    {
      "cell_type": "code",
      "source": [
        "from google.colab import drive\n",
        "drive.mount('/content/drive')"
      ],
      "metadata": {
        "id": "WP5bEajuz8xQ"
      },
      "execution_count": null,
      "outputs": []
    },
    {
      "cell_type": "code",
      "source": [
        "data_path = '/content/drive/MyDrive/Bolsa - Edson/estudos/Pasta sem nome/labmim_completo_2016_2022.dat'\n",
        "frame = pd.read_csv(data_path, sep=';')\n",
        "tempo = list(zip(frame['year'],frame['month'],frame['day'],frame['hour']))\n",
        "print(frame.columns)"
      ],
      "metadata": {
        "id": "6XAE-3VVz-xj"
      },
      "execution_count": null,
      "outputs": []
    },
    {
      "cell_type": "code",
      "source": [
        "# Formatação de datas\n",
        "datas=[]\n",
        "for i in tempo:\n",
        "  i = list(i)\n",
        "  datas.append(datetime.datetime(i[0],i[1],i[2],i[3]))\n",
        "frame['datas'] = datas\n",
        "frame['year/month/day'] = list(zip(frame['datas'].dt.year, frame['datas'].dt.month, frame['datas'].dt.day))"
      ],
      "metadata": {
        "id": "bopdobKr0Yaa"
      },
      "execution_count": 18,
      "outputs": []
    },
    {
      "cell_type": "markdown",
      "source": [
        "## **Controle de dados**: filtragem de dias"
      ],
      "metadata": {
        "id": "qAFmCgNG0xiO"
      }
    },
    {
      "cell_type": "code",
      "source": [
        "variavel = 'Sw_dw'\n",
        "horas_minimo = 8\n",
        "\n",
        "### Análise de Sw_dw: corta dias com menos de 8 horas com dados\n",
        "if variavel=='Sw_dw':\n",
        "  df = pd.DataFrame(frame, columns=['year/month/day',variavel])\n",
        "  df['meses'] = frame['datas'].dt.month\n",
        "  tabela = df.groupby('year/month/day')\n",
        "  analise=[]\n",
        "  analise_new=[]\n",
        "  for i in tabela:\n",
        "    analise.append(i)\n",
        "\n",
        "  for item in analise: # criando lista com dias com quantidade de dados suficiente\n",
        "    contador=0\n",
        "    for k in item[1][variavel]:\n",
        "      if math.isnan(k)==True:\n",
        "        contador=contador+1\n",
        "    if contador>=horas_minimo:\n",
        "      analise_new.append(item)\n"
      ],
      "metadata": {
        "id": "m66B12820IAg"
      },
      "execution_count": 56,
      "outputs": []
    },
    {
      "cell_type": "code",
      "source": [
        "analise_new"
      ],
      "metadata": {
        "id": "X5O_8WJK58x-"
      },
      "execution_count": null,
      "outputs": []
    }
  ]
}