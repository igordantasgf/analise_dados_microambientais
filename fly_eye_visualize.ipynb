{
  "nbformat": 4,
  "nbformat_minor": 0,
  "metadata": {
    "colab": {
      "provenance": [],
      "authorship_tag": "ABX9TyOsEq7KAR9bIrd3oIofizT6",
      "include_colab_link": true
    },
    "kernelspec": {
      "name": "python3",
      "display_name": "Python 3"
    },
    "language_info": {
      "name": "python"
    }
  },
  "cells": [
    {
      "cell_type": "markdown",
      "metadata": {
        "id": "view-in-github",
        "colab_type": "text"
      },
      "source": [
        "<a href=\"https://colab.research.google.com/github/igordantasgf/analise_dados_microambientais/blob/main/fly_eye_visualize.ipynb\" target=\"_parent\"><img src=\"https://colab.research.google.com/assets/colab-badge.svg\" alt=\"Open In Colab\"/></a>"
      ]
    },
    {
      "cell_type": "code",
      "source": [
        "from google.colab import drive\n",
        "drive.mount('/content/drive')"
      ],
      "metadata": {
        "colab": {
          "base_uri": "https://localhost:8080/"
        },
        "id": "_KV1aMdqqeiq",
        "outputId": "823b5ea4-3bc0-4225-94e6-2710684fdf29"
      },
      "execution_count": 1,
      "outputs": [
        {
          "output_type": "stream",
          "name": "stdout",
          "text": [
            "Mounted at /content/drive\n"
          ]
        }
      ]
    },
    {
      "cell_type": "code",
      "source": [
        "import pandas as pd\n",
        "import matplotlib.pyplot as plt\n",
        "import numpy as np"
      ],
      "metadata": {
        "id": "AtOZ2K49qtrg"
      },
      "execution_count": 14,
      "outputs": []
    },
    {
      "cell_type": "code",
      "source": [
        "col = ['TIMESTAMP', '\"RECORD\"', '\"rtime\"', '\"batt_volt\"', '\"panel_temp\"', '\"CM3Up_mv_Avg\"', '\"CM3Up_Wm2_Avg\"', '\"CMP21_Avg\"', '\"CMP21_Wm2_Avg\"', '\"CelSol_01_Avg\"', '\"CelSol_02_Avg\"', '\"CelSol_03_Avg\"', '\"CelSol_04_Avg\"', '\"CelSol_05_Avg\"', '\"CelSol_06_Avg\"', '\"CelSol_07_Avg\"', '\"CelSol_08_Avg\"', '\"CelSol_09_Avg\"', '\"CelSol_10_Avg\"', '\"CelSol_11_Avg\"', '\"CelSol_12_Avg\"', '\"CelSol_13_Avg\"', '\"CelSol_14_Avg\"', '\"CelSol_15_Avg\"', '\"CelSol_16_Avg\"', '\"CelSol_17_Avg\"']\n",
        "labmim = pd.read_csv('/content/drive/MyDrive/Bolsa - Edson/plataforma/LBM_solar_2022.dat',sep=';', header=None,skiprows=lambda x:x in [0,1,2,3], names=col)\n",
        "labmim[col] = labmim.TIMESTAMP.str.split(\",\", expand = True)"
      ],
      "metadata": {
        "id": "UfV9lTJjuuhD"
      },
      "execution_count": 39,
      "outputs": []
    },
    {
      "cell_type": "code",
      "source": [
        "def calcular_nan():\n",
        "  count = labmim.isna().any(axis=1).sum()\n",
        "  print(f\"Number of rows with at least one NaN value: {count}\")\n",
        "  print(f\"Total rows in series: {len(labmim)}\")\n",
        "calcular_nan()"
      ],
      "metadata": {
        "colab": {
          "base_uri": "https://localhost:8080/"
        },
        "id": "RRAb60vHsLAS",
        "outputId": "8bfaea62-debc-433e-bec4-b86fe33a6157"
      },
      "execution_count": 26,
      "outputs": [
        {
          "output_type": "stream",
          "name": "stdout",
          "text": [
            "Number of rows with at least one NaN value: 0\n",
            "Total rows in series: 459301\n"
          ]
        }
      ]
    },
    {
      "cell_type": "markdown",
      "source": [
        "### Organização dos valores\n",
        "##### Sequenciamento dos valores e suas respectivas coordenadas bidimensionais em duas litas separadas "
      ],
      "metadata": {
        "id": "lLPRXFrbFCUL"
      }
    },
    {
      "cell_type": "code",
      "source": [
        "sensors=col[9:]\n",
        "values=[]\n",
        "coord=[]\n",
        "labmim_backup = labmim\n",
        "\n",
        "for i in sensors:\n",
        "  x=0\n",
        "  unique_types = set()\n",
        "  #for item in labmim_backup[i]:\n",
        "  #  unique_types.add(type(item))\n",
        "  #print(unique_types)\n",
        "  labmim_backup[i] = [int(x) if str(x).isdigit() else 0 for x in labmim_backup[i]]\n",
        "  values.append(sum(labmim_backup[i]))"
      ],
      "metadata": {
        "id": "mYLMCY2t9_gU"
      },
      "execution_count": 46,
      "outputs": []
    },
    {
      "cell_type": "code",
      "source": [
        "values"
      ],
      "metadata": {
        "id": "aHMNaQGwI-pA",
        "outputId": "034ba0ef-6c90-41cf-ca52-2206dac07972",
        "colab": {
          "base_uri": "https://localhost:8080/"
        }
      },
      "execution_count": 47,
      "outputs": [
        {
          "output_type": "execute_result",
          "data": {
            "text/plain": [
              "[9193338,\n",
              " 8456400,\n",
              " 7708758,\n",
              " 6284256,\n",
              " 5188114,\n",
              " 8744490,\n",
              " 6627322,\n",
              " 8936112,\n",
              " 9984239,\n",
              " 9424400,\n",
              " 8200163,\n",
              " 7292308,\n",
              " 9630627,\n",
              " 9153611,\n",
              " 5179864,\n",
              " 10811614,\n",
              " 8548850]"
            ]
          },
          "metadata": {},
          "execution_count": 47
        }
      ]
    }
  ]
}