{
  "nbformat": 4,
  "nbformat_minor": 0,
  "metadata": {
    "colab": {
      "provenance": [],
      "authorship_tag": "ABX9TyMcYXNTt/WiX6v9XMvge4pR",
      "include_colab_link": true
    },
    "kernelspec": {
      "name": "python3",
      "display_name": "Python 3"
    },
    "language_info": {
      "name": "python"
    }
  },
  "cells": [
    {
      "cell_type": "markdown",
      "metadata": {
        "id": "view-in-github",
        "colab_type": "text"
      },
      "source": [
        "<a href=\"https://colab.research.google.com/github/igordantasgf/analise_dados_microambientais/blob/main/fly_eye_visualize.ipynb\" target=\"_parent\"><img src=\"https://colab.research.google.com/assets/colab-badge.svg\" alt=\"Open In Colab\"/></a>"
      ]
    },
    {
      "cell_type": "code",
      "source": [
        "from google.colab import drive\n",
        "drive.mount('/content/drive')"
      ],
      "metadata": {
        "colab": {
          "base_uri": "https://localhost:8080/"
        },
        "id": "_KV1aMdqqeiq",
        "outputId": "0e2a6314-e557-4801-a95e-2b326611ec3d"
      },
      "execution_count": 1,
      "outputs": [
        {
          "output_type": "stream",
          "name": "stdout",
          "text": [
            "Mounted at /content/drive\n"
          ]
        }
      ]
    },
    {
      "cell_type": "code",
      "source": [
        "import pandas as pd\n",
        "import matplotlib.pyplot as plt"
      ],
      "metadata": {
        "id": "AtOZ2K49qtrg"
      },
      "execution_count": 2,
      "outputs": []
    },
    {
      "cell_type": "code",
      "source": [
        "col = ['TIMESTAMP', '\"RECORD\"', '\"rtime\"', '\"batt_volt\"', '\"panel_temp\"', '\"CM3Up_mv_Avg\"', '\"CM3Up_Wm2_Avg\"', '\"CMP21_Avg\"', '\"CMP21_Wm2_Avg\"', '\"CelSol_01_Avg\"', '\"CelSol_02_Avg\"', '\"CelSol_03_Avg\"', '\"CelSol_04_Avg\"', '\"CelSol_05_Avg\"', '\"CelSol_06_Avg\"', '\"CelSol_07_Avg\"', '\"CelSol_08_Avg\"', '\"CelSol_09_Avg\"', '\"CelSol_10_Avg\"', '\"CelSol_11_Avg\"', '\"CelSol_12_Avg\"', '\"CelSol_13_Avg\"', '\"CelSol_14_Avg\"', '\"CelSol_15_Avg\"', '\"CelSol_16_Avg\"', '\"CelSol_17_Avg\"']\n",
        "labmim = pd.read_csv('/content/drive/MyDrive/Bolsa - Edson/plataforma/LBM_solar_2022.dat',sep=';', header=None,skiprows=lambda x:x in [0,1,2,3], names=col)\n",
        "labmim[col] = labmim.TIMESTAMP.str.split(\",\", expand = True)"
      ],
      "metadata": {
        "id": "UfV9lTJjuuhD"
      },
      "execution_count": 3,
      "outputs": []
    },
    {
      "cell_type": "code",
      "source": [
        "def calcular_nan():\n",
        "  count = labmim.isna().any(axis=1).sum()\n",
        "  print(f\"Number of rows with at least one NaN value: {count}\")\n",
        "  print(f\"Total rows in series: {len(labmim)}\")\n",
        "calcular_nan()"
      ],
      "metadata": {
        "colab": {
          "base_uri": "https://localhost:8080/"
        },
        "id": "RRAb60vHsLAS",
        "outputId": "b3e3c336-9f7a-4c88-9c52-d2781fbe00c9"
      },
      "execution_count": null,
      "outputs": [
        {
          "output_type": "stream",
          "name": "stdout",
          "text": [
            "Number of rows with at least one NaN value: 0\n",
            "Total rows in series: 459301\n"
          ]
        }
      ]
    },
    {
      "cell_type": "code",
      "source": [
        "labmim[sensors]"
      ],
      "metadata": {
        "id": "DCNXOP5AGPop"
      },
      "execution_count": null,
      "outputs": []
    },
    {
      "cell_type": "markdown",
      "source": [
        "### Organização dos valores\n",
        "##### Sequenciamento dos valores e suas respectivas coordenadas bidimensionais em duas litas separadas "
      ],
      "metadata": {
        "id": "lLPRXFrbFCUL"
      }
    },
    {
      "cell_type": "code",
      "source": [
        "sensors=col[9:]\n",
        "\n",
        "values=[]\n",
        "coord={'X':{1,4,5,2},'Y':{4,2,9,7}}\n",
        "for i in sensors:\n",
        "  values.append(sum(x for x in labmim[i] if isinstance(x, int)))"
      ],
      "metadata": {
        "id": "mYLMCY2t9_gU"
      },
      "execution_count": 26,
      "outputs": []
    },
    {
      "cell_type": "code",
      "source": [
        "values"
      ],
      "metadata": {
        "id": "aHMNaQGwI-pA",
        "outputId": "6d625a0b-68be-4fbc-f334-c4692537b86f",
        "colab": {
          "base_uri": "https://localhost:8080/"
        }
      },
      "execution_count": 27,
      "outputs": [
        {
          "output_type": "execute_result",
          "data": {
            "text/plain": [
              "[0, 0, 0, 0, 0, 0, 0, 0, 0, 0, 0, 0, 0, 0, 0, 0, 0]"
            ]
          },
          "metadata": {},
          "execution_count": 27
        }
      ]
    }
  ]
}